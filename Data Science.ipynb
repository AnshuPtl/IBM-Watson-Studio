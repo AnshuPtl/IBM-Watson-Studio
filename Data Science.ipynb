{
    "cells": [
        {
            "cell_type": "markdown",
            "metadata": {
                "collapsed": true
            },
            "source": "# My Jupyter Notebook on IBM Watson Studio"
        },
        {
            "cell_type": "markdown",
            "metadata": {},
            "source": "**My name is Anshu Patel.** I want to be a Data Scientist"
        },
        {
            "cell_type": "markdown",
            "metadata": {},
            "source": "_I am interested in data science because I have a passion for learning and improving your knowledge and skills. You are always eager to learn new things and keep up with the latest developments and trends in data science. You are also willing to share your findings and insights with others and collaborate with them._"
        },
        {
            "cell_type": "markdown",
            "metadata": {},
            "source": "### Addition of two numbers"
        },
        {
            "cell_type": "code",
            "execution_count": 2,
            "metadata": {},
            "outputs": [
                {
                    "name": "stdout",
                    "output_type": "stream",
                    "text": "Enter Number: 3\nEnter Number: 30\nAddition:  33\n"
                }
            ],
            "source": "a = int(input(\"Enter Number: \"))\nb = int(input(\"Enter Number: \"))\n\nc=a+b\n\nprint(\"Addition: \",c)"
        },
        {
            "cell_type": "markdown",
            "metadata": {},
            "source": "* This is a bulleted list\n* My name is Anshu Patel.\n\n1. This is a numbered list\n2. I want be a Data Scientiest.\n\n<a href=\"https://github.com/AnshuPtl\">This is a hyperlink</a>\n\n| Name | Occupation |\n| --- | --- |\n| Anshu Patel | Data Scientiest |"
        }
    ],
    "metadata": {
        "kernelspec": {
            "display_name": "Python 3.10",
            "language": "python",
            "name": "python3"
        },
        "language_info": {
            "codemirror_mode": {
                "name": "ipython",
                "version": 3
            },
            "file_extension": ".py",
            "mimetype": "text/x-python",
            "name": "python",
            "nbconvert_exporter": "python",
            "pygments_lexer": "ipython3",
            "version": "3.10.9"
        }
    },
    "nbformat": 4,
    "nbformat_minor": 1
}